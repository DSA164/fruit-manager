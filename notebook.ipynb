{
 "cells": [
  {
   "cell_type": "code",
   "execution_count": 10,
   "id": "db28b812",
   "metadata": {},
   "outputs": [],
   "source": [
    "inventaire = {\n",
    "    \"bananes\": 120,\n",
    "    \"mangues\": 85,\n",
    "    \"ananas\": 45,\n",
    "    \"noix de coco\": 60,\n",
    "    \"papayes\": 30\n",
    "}"
   ]
  },
  {
   "cell_type": "code",
   "execution_count": 11,
   "id": "bf5b655c",
   "metadata": {},
   "outputs": [],
   "source": [
    "def afficher_inventaire(inventaire):\n",
    "    print(\"Inventaire actuel de la plantation :\")\n",
    "    for fruit, quantite in inventaire.items():\n",
    "        print(f\"- {fruit.capitalize()} : {quantite} unités\")"
   ]
  },
  {
   "cell_type": "code",
   "execution_count": 12,
   "id": "218b5374",
   "metadata": {},
   "outputs": [],
   "source": [
    "def recolter(inventaire, fruit, quantite):\n",
    "    inventaire[fruit] = inventaire.get(fruit, 0) + quantite\n",
    "    print(f\"\\n✅ Récolté {quantite} {fruit} supplémentaires !\")"
   ]
  },
  {
   "cell_type": "code",
   "execution_count": 13,
   "id": "b565afd1",
   "metadata": {},
   "outputs": [],
   "source": [
    "def vendre(inventaire, fruit, quantite):\n",
    "    if inventaire.get(fruit, 0) >= quantite:\n",
    "        inventaire[fruit] -= quantite\n",
    "        print(f\"\\n💰 Vendu {quantite} {fruit} !\")\n",
    "    else:\n",
    "        print(f\"\\n❌ Pas assez de {fruit} pour vendre {quantite} unités.\")"
   ]
  },
  {
   "cell_type": "code",
   "execution_count": 14,
   "id": "9c27a8c1",
   "metadata": {},
   "outputs": [
    {
     "name": "stdout",
     "output_type": "stream",
     "text": [
      "Inventaire actuel de la plantation :\n",
      "- Bananes : 120 unités\n",
      "- Mangues : 85 unités\n",
      "- Ananas : 45 unités\n",
      "- Noix de coco : 60 unités\n",
      "- Papayes : 30 unités\n"
     ]
    }
   ],
   "source": [
    "afficher_inventaire(inventaire)"
   ]
  },
  {
   "cell_type": "code",
   "execution_count": 15,
   "id": "06165a0c",
   "metadata": {},
   "outputs": [
    {
     "name": "stdout",
     "output_type": "stream",
     "text": [
      "\n",
      "✅ Récolté 10 bananes supplémentaires !\n"
     ]
    }
   ],
   "source": [
    "recolter(inventaire, \"bananes\", 10)"
   ]
  },
  {
   "cell_type": "code",
   "execution_count": 16,
   "id": "f288536c",
   "metadata": {},
   "outputs": [
    {
     "name": "stdout",
     "output_type": "stream",
     "text": [
      "\n",
      "💰 Vendu 5 bananes !\n"
     ]
    }
   ],
   "source": [
    "vendre(inventaire, \"bananes\", 5)"
   ]
  },
  {
   "cell_type": "code",
   "execution_count": 17,
   "id": "910419a3",
   "metadata": {},
   "outputs": [
    {
     "name": "stdout",
     "output_type": "stream",
     "text": [
      "Inventaire actuel de la plantation :\n",
      "- Bananes : 125 unités\n",
      "- Mangues : 85 unités\n",
      "- Ananas : 45 unités\n",
      "- Noix de coco : 60 unités\n",
      "- Papayes : 30 unités\n"
     ]
    }
   ],
   "source": [
    "afficher_inventaire(inventaire)"
   ]
  },
  {
   "cell_type": "code",
   "execution_count": null,
   "id": "66302c73",
   "metadata": {},
   "outputs": [],
   "source": []
  }
 ],
 "metadata": {
  "kernelspec": {
   "display_name": "Python 3",
   "language": "python",
   "name": "python3"
  },
  "language_info": {
   "codemirror_mode": {
    "name": "ipython",
    "version": 3
   },
   "file_extension": ".py",
   "mimetype": "text/x-python",
   "name": "python",
   "nbconvert_exporter": "python",
   "pygments_lexer": "ipython3",
   "version": "3.12.9"
  }
 },
 "nbformat": 4,
 "nbformat_minor": 5
}
