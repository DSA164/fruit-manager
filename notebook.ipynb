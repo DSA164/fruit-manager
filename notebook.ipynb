{
 "cells": [
  {
   "cell_type": "code",
   "execution_count": 1,
   "id": "db28b812",
   "metadata": {},
   "outputs": [],
   "source": [
    "inventaire = {\n",
    "    \"bananes\": 120,\n",
    "    \"mangues\": 85,\n",
    "    \"ananas\": 45,\n",
    "    \"noix de coco\": 60,\n",
    "    \"papayes\": 30\n",
    "}"
   ]
  },
  {
   "cell_type": "code",
   "execution_count": 2,
   "id": "bf5b655c",
   "metadata": {},
   "outputs": [],
   "source": [
    "def afficher_inventaire(inventaire):\n",
    "    print(\"Inventaire actuel de la plantation :\")\n",
    "    for fruit, quantite in inventaire.items():\n",
    "        print(f\"- {fruit.capitalize()} : {quantite} unités\")"
   ]
  },
  {
   "cell_type": "code",
   "execution_count": 3,
   "id": "9c27a8c1",
   "metadata": {},
   "outputs": [
    {
     "name": "stdout",
     "output_type": "stream",
     "text": [
      "Inventaire actuel de la plantation :\n",
      "- Bananes : 120 unités\n",
      "- Mangues : 85 unités\n",
      "- Ananas : 45 unités\n",
      "- Noix de coco : 60 unités\n",
      "- Papayes : 30 unités\n"
     ]
    }
   ],
   "source": [
    "afficher_inventaire(inventaire)"
   ]
  }
 ],
 "metadata": {
  "kernelspec": {
   "display_name": "Python 3",
   "language": "python",
   "name": "python3"
  },
  "language_info": {
   "codemirror_mode": {
    "name": "ipython",
    "version": 3
   },
   "file_extension": ".py",
   "mimetype": "text/x-python",
   "name": "python",
   "nbconvert_exporter": "python",
   "pygments_lexer": "ipython3",
   "version": "3.12.9"
  }
 },
 "nbformat": 4,
 "nbformat_minor": 5
}
